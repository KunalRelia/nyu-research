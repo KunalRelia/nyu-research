{
 "cells": [
  {
   "cell_type": "code",
   "execution_count": 5,
   "metadata": {
    "collapsed": false
   },
   "outputs": [
    {
     "name": "stderr",
     "output_type": "stream",
     "text": [
      "Installing package into 'C:/Users/Tom Work/Documents/R/win-library/3.3'\n",
      "(as 'lib' is unspecified)\n",
      "also installing the dependencies 'splus2R', 'ifultools', 'proxy', 'clv', 'rgl', 'misc3d', 'wmtsa', 'pdc', 'locpol', 'dtw', 'longitudinalData'\n",
      "\n"
     ]
    },
    {
     "name": "stdout",
     "output_type": "stream",
     "text": [
      "package 'splus2R' successfully unpacked and MD5 sums checked\n",
      "package 'ifultools' successfully unpacked and MD5 sums checked\n",
      "package 'proxy' successfully unpacked and MD5 sums checked\n",
      "package 'clv' successfully unpacked and MD5 sums checked\n",
      "package 'rgl' successfully unpacked and MD5 sums checked\n",
      "package 'misc3d' successfully unpacked and MD5 sums checked\n",
      "package 'wmtsa' successfully unpacked and MD5 sums checked\n",
      "package 'pdc' successfully unpacked and MD5 sums checked\n",
      "package 'locpol' successfully unpacked and MD5 sums checked\n",
      "package 'dtw' successfully unpacked and MD5 sums checked\n",
      "package 'longitudinalData' successfully unpacked and MD5 sums checked\n",
      "package 'TSclust' successfully unpacked and MD5 sums checked\n",
      "\n",
      "The downloaded binary packages are in\n",
      "\tC:\\Users\\Tom Work\\AppData\\Local\\Temp\\RtmpwtVNrf\\downloaded_packages\n"
     ]
    }
   ],
   "source": [
    "install.packages('TSclust', repos=\"http://cran.rstudio.com/\")"
   ]
  },
  {
   "cell_type": "code",
   "execution_count": 6,
   "metadata": {
    "collapsed": false
   },
   "outputs": [
    {
     "name": "stderr",
     "output_type": "stream",
     "text": [
      "Loading required package: wmtsa\n",
      "Loading required package: pdc\n",
      "Loading required package: cluster\n"
     ]
    }
   ],
   "source": [
    "library('TSclust')"
   ]
  },
  {
   "cell_type": "code",
   "execution_count": null,
   "metadata": {
    "collapsed": true
   },
   "outputs": [],
   "source": [
    ""
   ]
  }
 ],
 "metadata": {
  "kernelspec": {
   "display_name": "R",
   "language": "R",
   "name": "ir"
  },
  "language_info": {
   "codemirror_mode": "r",
   "file_extension": ".r",
   "mimetype": "text/x-r-source",
   "name": "R",
   "pygments_lexer": "r",
   "version": "3.3.1"
  }
 },
 "nbformat": 4,
 "nbformat_minor": 0
}